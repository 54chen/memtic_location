{
 "cells": [
  {
   "cell_type": "code",
   "execution_count": 30,
   "id": "b9d4acd0",
   "metadata": {},
   "outputs": [
    {
     "ename": "AttributeError",
     "evalue": "'Pandas' object has no attribute 'Unnamed: 0'",
     "output_type": "error",
     "traceback": [
      "\u001b[0;31m---------------------------------------------------------------------------\u001b[0m",
      "\u001b[0;31mAttributeError\u001b[0m                            Traceback (most recent call last)",
      "Cell \u001b[0;32mIn [30], line 8\u001b[0m\n\u001b[1;32m      3\u001b[0m Map \u001b[38;5;241m=\u001b[39m geemap\u001b[38;5;241m.\u001b[39mMap(center\u001b[38;5;241m=\u001b[39m(\u001b[38;5;241m40\u001b[39m, \u001b[38;5;241m120\u001b[39m), zoom\u001b[38;5;241m=\u001b[39m\u001b[38;5;241m2\u001b[39m)\n\u001b[1;32m      5\u001b[0m data \u001b[38;5;241m=\u001b[39m (\n\u001b[1;32m      6\u001b[0m     \u001b[38;5;124m\"\u001b[39m\u001b[38;5;124mhttps://raw.githubusercontent.com/54chen/memtic_location/main/visualisation.csv\u001b[39m\u001b[38;5;124m\"\u001b[39m\n\u001b[1;32m      7\u001b[0m )\n\u001b[0;32m----> 8\u001b[0m Map\u001b[38;5;241m.\u001b[39madd_circle_markers_from_xy(\n\u001b[1;32m      9\u001b[0m     data, x\u001b[38;5;241m=\u001b[39m\u001b[38;5;124m\"\u001b[39m\u001b[38;5;124mlongitude\u001b[39m\u001b[38;5;124m\"\u001b[39m, y\u001b[38;5;241m=\u001b[39m\u001b[38;5;124m\"\u001b[39m\u001b[38;5;124mlatitude\u001b[39m\u001b[38;5;124m\"\u001b[39m, radius\u001b[38;5;241m=\u001b[39m\u001b[38;5;241m20\u001b[39m, color\u001b[38;5;241m=\u001b[39m\u001b[38;5;124m\"\u001b[39m\u001b[38;5;124mblue\u001b[39m\u001b[38;5;124m\"\u001b[39m, fill_color\u001b[38;5;241m=\u001b[39m\u001b[38;5;124m\"\u001b[39m\u001b[38;5;124mgray\u001b[39m\u001b[38;5;124m\"\u001b[39m\n\u001b[1;32m     10\u001b[0m )\n\u001b[1;32m     12\u001b[0m Map\n",
      "File \u001b[0;32m/usr/local/lib/python3.9/site-packages/geemap/geemap.py:6475\u001b[0m, in \u001b[0;36mMap.add_circle_markers_from_xy\u001b[0;34m(self, data, x, y, radius, popup, **kwargs)\u001b[0m\n\u001b[1;32m   6473\u001b[0m html \u001b[38;5;241m=\u001b[39m \u001b[38;5;124m\"\u001b[39m\u001b[38;5;124m\"\u001b[39m\n\u001b[1;32m   6474\u001b[0m \u001b[38;5;28;01mfor\u001b[39;00m p \u001b[38;5;129;01min\u001b[39;00m popup:\n\u001b[0;32m-> 6475\u001b[0m     html \u001b[38;5;241m=\u001b[39m html \u001b[38;5;241m+\u001b[39m \u001b[38;5;124m\"\u001b[39m\u001b[38;5;124m<b>\u001b[39m\u001b[38;5;124m\"\u001b[39m \u001b[38;5;241m+\u001b[39m p \u001b[38;5;241m+\u001b[39m \u001b[38;5;124m\"\u001b[39m\u001b[38;5;124m</b>\u001b[39m\u001b[38;5;124m\"\u001b[39m \u001b[38;5;241m+\u001b[39m \u001b[38;5;124m\"\u001b[39m\u001b[38;5;124m: \u001b[39m\u001b[38;5;124m\"\u001b[39m \u001b[38;5;241m+\u001b[39m \u001b[38;5;28mstr\u001b[39m(\u001b[38;5;28;43mgetattr\u001b[39;49m\u001b[43m(\u001b[49m\u001b[43mrow\u001b[49m\u001b[43m,\u001b[49m\u001b[43m \u001b[49m\u001b[43mp\u001b[49m\u001b[43m)\u001b[49m) \u001b[38;5;241m+\u001b[39m \u001b[38;5;124m\"\u001b[39m\u001b[38;5;124m<br>\u001b[39m\u001b[38;5;124m\"\u001b[39m\n\u001b[1;32m   6476\u001b[0m popup_html \u001b[38;5;241m=\u001b[39m widgets\u001b[38;5;241m.\u001b[39mHTML(html)\n\u001b[1;32m   6478\u001b[0m marker \u001b[38;5;241m=\u001b[39m ipyleaflet\u001b[38;5;241m.\u001b[39mCircleMarker(\n\u001b[1;32m   6479\u001b[0m     location\u001b[38;5;241m=\u001b[39m[\u001b[38;5;28mgetattr\u001b[39m(row, y), \u001b[38;5;28mgetattr\u001b[39m(row, x)],\n\u001b[1;32m   6480\u001b[0m     radius\u001b[38;5;241m=\u001b[39mradius,\n\u001b[1;32m   6481\u001b[0m     popup\u001b[38;5;241m=\u001b[39mpopup_html,\n\u001b[1;32m   6482\u001b[0m     \u001b[38;5;241m*\u001b[39m\u001b[38;5;241m*\u001b[39mkwargs,\n\u001b[1;32m   6483\u001b[0m )\n",
      "\u001b[0;31mAttributeError\u001b[0m: 'Pandas' object has no attribute 'Unnamed: 0'"
     ]
    }
   ],
   "source": [
    "import ee\n",
    "import geemap\n",
    "Map = geemap.Map(center=(40, 120), zoom=2)\n",
    "\n",
    "data = (\n",
    "    \"https://raw.githubusercontent.com/54chen/memtic_location/main/visualisation.csv\"\n",
    ")\n",
    "Map.add_circle_markers_from_xy(\n",
    "    data, x=\"longitude\", y=\"latitude\", radius=20, color=\"blue\", fill_color=\"gray\"\n",
    ")\n",
    "\n",
    "Map"
   ]
  },
  {
   "cell_type": "code",
   "execution_count": null,
   "id": "0ee93b68",
   "metadata": {},
   "outputs": [],
   "source": []
  }
 ],
 "metadata": {
  "kernelspec": {
   "display_name": "Python 3 (ipykernel)",
   "language": "python",
   "name": "python3"
  },
  "language_info": {
   "codemirror_mode": {
    "name": "ipython",
    "version": 3
   },
   "file_extension": ".py",
   "mimetype": "text/x-python",
   "name": "python",
   "nbconvert_exporter": "python",
   "pygments_lexer": "ipython3",
   "version": "3.9.13"
  }
 },
 "nbformat": 4,
 "nbformat_minor": 5
}
