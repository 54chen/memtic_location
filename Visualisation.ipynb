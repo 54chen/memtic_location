{
 "cells": [
  {
   "cell_type": "code",
   "execution_count": 1,
   "id": "b6d107fe",
   "metadata": {},
   "outputs": [
    {
     "data": {
      "application/vnd.jupyter.widget-view+json": {
       "model_id": "d2f94759374b4faeb3e1a90ead3306b4",
       "version_major": 2,
       "version_minor": 0
      },
      "text/plain": [
       "Map(center=[40, 10], controls=(WidgetControl(options=['position', 'transparent_bg'], widget=HBox(children=(Tog…"
      ]
     },
     "execution_count": 1,
     "metadata": {},
     "output_type": "execute_result"
    }
   ],
   "source": [
    "import ee\n",
    "import geemap\n",
    "import pandas as pd\n",
    "Map = geemap.Map(center=(40, 10), zoom=2)\n",
    "\n",
    "data = \"https://raw.githubusercontent.com/54chen/mimetic_location/main/visualisation6.csv\"\n",
    "df = pd.read_csv(data, index_col=0)\n",
    "\n",
    "for idx,d in df.iterrows():\n",
    "    arr = [[]]\n",
    "    arr[0].append(d['latitude'])\n",
    "    arr[0].append(d['longitude'])\n",
    "    arr[0].append(d['radius'])\n",
    "    dfd = pd.DataFrame(arr, columns=['latitude','longitude','grade'])\n",
    "    r = int(d['radius'])*4\n",
    "\n",
    "    Map.add_circle_markers_from_xy(dfd, x=\"longitude\", y=\"latitude\", radius=r, color=\"blue\", fill_color=\"gray\")\n",
    "\n",
    "Map"
   ]
  },
  {
   "cell_type": "code",
   "execution_count": null,
   "id": "117eb367",
   "metadata": {},
   "outputs": [],
   "source": []
  }
 ],
 "metadata": {
  "kernelspec": {
   "display_name": "Python 3.9.13 64-bit",
   "language": "python",
   "name": "python3"
  },
  "language_info": {
   "codemirror_mode": {
    "name": "ipython",
    "version": 3
   },
   "file_extension": ".py",
   "mimetype": "text/x-python",
   "name": "python",
   "nbconvert_exporter": "python",
   "pygments_lexer": "ipython3",
   "version": "3.9.13"
  },
  "vscode": {
   "interpreter": {
    "hash": "aee8b7b246df8f9039afb4144a1f6fd8d2ca17a180786b69acc140d282b71a49"
   }
  }
 },
 "nbformat": 4,
 "nbformat_minor": 5
}
