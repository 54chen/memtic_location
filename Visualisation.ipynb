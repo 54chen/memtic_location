{
 "cells": [
  {
   "cell_type": "code",
   "execution_count": 4,
   "id": "b6d107fe",
   "metadata": {},
   "outputs": [
    {
     "data": {
      "application/vnd.jupyter.widget-view+json": {
       "model_id": "531f78f74b41405dabe50a51c8a025c0",
       "version_major": 2,
       "version_minor": 0
      },
      "text/plain": [
       "Map(center=[40, 10], controls=(WidgetControl(options=['position', 'transparent_bg'], widget=HBox(children=(Tog…"
      ]
     },
     "execution_count": 4,
     "metadata": {},
     "output_type": "execute_result"
    }
   ],
   "source": [
    "import ee\n",
    "import geemap\n",
    "import pandas as pd\n",
    "Map = geemap.Map(center=(40, 10), zoom=2)\n",
    "\n",
    "data = \"https://raw.githubusercontent.com/54chen/memtic_location/main/visualisation3.csv\"\n",
    "df = pd.read_csv(data, index_col=0)\n",
    "\n",
    "for idx,d in df.iterrows():\n",
    "    arr = [[]]\n",
    "    arr[0].append(d['latitude'])\n",
    "    arr[0].append(d['longitude'])\n",
    "    arr[0].append(d['radius'])\n",
    "    dfd = pd.DataFrame(arr, columns=['latitude','longitude','radius'])\n",
    "    Map.add_circle_markers_from_xy(dfd, x=\"longitude\", y=\"latitude\", radius=int(d['radius']*2+1), color=\"blue\", fill_color=\"gray\")\n",
    "\n",
    "Map"
   ]
  },
  {
   "cell_type": "code",
   "execution_count": null,
   "id": "117eb367",
   "metadata": {},
   "outputs": [],
   "source": []
  }
 ],
 "metadata": {
  "kernelspec": {
   "display_name": "Python 3 (ipykernel)",
   "language": "python",
   "name": "python3"
  },
  "language_info": {
   "codemirror_mode": {
    "name": "ipython",
    "version": 3
   },
   "file_extension": ".py",
   "mimetype": "text/x-python",
   "name": "python",
   "nbconvert_exporter": "python",
   "pygments_lexer": "ipython3",
   "version": "3.9.13"
  }
 },
 "nbformat": 4,
 "nbformat_minor": 5
}
